{
 "cells": [
  {
   "cell_type": "code",
   "execution_count": 1,
   "metadata": {},
   "outputs": [],
   "source": [
    "import os\n",
    "import pandas as pd\n",
    "import cv2\n"
   ]
  },
  {
   "cell_type": "code",
   "execution_count": 2,
   "metadata": {},
   "outputs": [],
   "source": [
    "# Define paths to dataset folders\n",
    "train_folder = \"./Fish.v1-416x416.tensorflow/train\"\n",
    "valid_folder = \"./Fish.v1-416x416.tensorflow/valid\"\n",
    "test_folder = \"./Fish.v1-416x416.tensorflow/test\""
   ]
  },
  {
   "cell_type": "code",
   "execution_count": 7,
   "metadata": {},
   "outputs": [],
   "source": [
    "# Function to read annotation files\n",
    "def read_annotations(folder):\n",
    "    annotation_file = os.path.join(folder, \"_annotations.csv\")\n",
    "    return pd.read_csv(annotation_file)\n",
    "\n",
    "def crop_images(folder, annotations):\n",
    "    for index, row in annotations.iterrows():\n",
    "        filename_col = annotations.columns[0]  # Assuming the first column is the filename\n",
    "        filename = row[filename_col]\n",
    "        image_path = os.path.join(folder, filename)\n",
    "        try:\n",
    "            image = cv2.imread(image_path)\n",
    "            if image is None:\n",
    "                print(f\"Error: Unable to read image '{filename}'. Skipping...\")\n",
    "                continue\n",
    "        except Exception as e:\n",
    "            print(f\"Error: Unable to read image '{filename}': {str(e)}. Skipping...\")\n",
    "            continue\n",
    "        class_name = row['class']  # Adjusted column name to lowercase\n",
    "        class_folder = os.path.join(folder, class_name)\n",
    "        if not os.path.exists(class_folder):\n",
    "            os.makedirs(class_folder)\n",
    "        xmin, ymin, xmax, ymax = row['xmin'], row['ymin'], row['xmax'], row['ymax']  # Adjusted column names to lowercase\n",
    "        if xmin == xmax or ymin == ymax:  # Check if width or height is zero\n",
    "            print(f\"Error: Bounding box has zero width or height in image '{filename}'. Skipping...\")\n",
    "            continue\n",
    "        cropped_img = image[ymin:ymax, xmin:xmax]\n",
    "        if cropped_img.shape[0] == 0 or cropped_img.shape[1] == 0:\n",
    "            print(f\"Error: Cropped image '{filename}' is empty. Skipping...\")\n",
    "            continue\n",
    "        cv2.imwrite(os.path.join(class_folder, filename), cropped_img)\n"
   ]
  },
  {
   "cell_type": "code",
   "execution_count": 8,
   "metadata": {},
   "outputs": [
    {
     "name": "stdout",
     "output_type": "stream",
     "text": [
      "Error: Bounding box has zero width or height in image 'FishDataset554_png.rf.b2XgzOC8YWtCgAaV6mbC.jpg'. Skipping...\n",
      "Error: Bounding box has zero width or height in image 'FishDataset554_png.rf.27536e4740fb6e7e0324302187967adb.jpg'. Skipping...\n"
     ]
    }
   ],
   "source": [
    "# Process train dataset\n",
    "train_annotations = read_annotations(train_folder)\n",
    "crop_images(train_folder, train_annotations)\n",
    "\n",
    "# Process validation dataset\n",
    "valid_annotations = read_annotations(valid_folder)\n",
    "crop_images(valid_folder, valid_annotations)\n",
    "\n",
    "# Process test dataset\n",
    "test_annotations = read_annotations(test_folder)\n",
    "crop_images(test_folder, test_annotations)"
   ]
  },
  {
   "cell_type": "code",
   "execution_count": null,
   "metadata": {},
   "outputs": [],
   "source": []
  }
 ],
 "metadata": {
  "kernelspec": {
   "display_name": "base",
   "language": "python",
   "name": "python3"
  },
  "language_info": {
   "codemirror_mode": {
    "name": "ipython",
    "version": 3
   },
   "file_extension": ".py",
   "mimetype": "text/x-python",
   "name": "python",
   "nbconvert_exporter": "python",
   "pygments_lexer": "ipython3",
   "version": "3.11.5"
  }
 },
 "nbformat": 4,
 "nbformat_minor": 2
}
